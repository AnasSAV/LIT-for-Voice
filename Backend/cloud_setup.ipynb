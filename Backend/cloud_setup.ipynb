{
  "cells": [
    {
      "cell_type": "code",
      "execution_count": null,
      "metadata": {
        "colab": {
          "base_uri": "https://localhost:8080/"
        },
        "id": "3WiyJrqR89lr",
        "outputId": "7505ba0a-a053-4bae-b467-85987acc71c4"
      },
      "outputs": [],
      "source": [
        "from google.colab import drive\n",
        "drive.mount('/content/drive')"
      ]
    },
    {
      "cell_type": "code",
      "execution_count": null,
      "metadata": {
        "colab": {
          "base_uri": "https://localhost:8080/"
        },
        "id": "clone",
        "outputId": "e628f589-38f6-416b-e07f-ed29c89f024c"
      },
      "outputs": [],
      "source": [
        "!sudo apt-get update -y\n",
        "!sudo apt-get install -y python3.11 python3.11-venv python3.11-dev"
      ]
    },
    {
      "cell_type": "code",
      "execution_count": null,
      "metadata": {
        "colab": {
          "base_uri": "https://localhost:8080/"
        },
        "id": "python311",
        "outputId": "e60559d1-fa6f-410a-a3f8-785e7d439705"
      },
      "outputs": [],
      "source": [
        "%cd /content/drive/MyDrive/LIT-for-Voice/Backend"
      ]
    },
    {
      "cell_type": "code",
      "execution_count": null,
      "metadata": {
        "colab": {
          "base_uri": "https://localhost:8080/"
        },
        "id": "redis",
        "outputId": "6e685580-0b3e-4571-d27f-1f5e066007a1"
      },
      "outputs": [],
      "source": [
        "!python3.11 -m venv /tmp/.venv\n",
        "!/tmp/.venv/bin/pip install --upgrade pip\n",
        "!/tmp/.venv/bin/pip install -r requirements.txt"
      ]
    },
    {
      "cell_type": "code",
      "execution_count": null,
      "metadata": {
        "colab": {
          "base_uri": "https://localhost:8080/"
        },
        "id": "uvicorn",
        "outputId": "2d82e57e-4cfb-4841-8e7c-d3f092b8ab36"
      },
      "outputs": [],
      "source": [
        "!sudo apt-get install -y redis-server\n",
        "!redis-server --daemonize yes\n",
        "!redis-cli ping"
      ]
    },
    {
      "cell_type": "code",
      "execution_count": null,
      "metadata": {
        "colab": {
          "base_uri": "https://localhost:8080/"
        },
        "id": "ngrok",
        "outputId": "355ee699-e52d-4028-9f8c-7ca69429526a"
      },
      "outputs": [],
      "source": [
        "!fuser -k 8000/tcp || true\n",
        "!pkill -f \"uvicorn app.main:app\" || true\n",
        "%env MPLBACKEND=Agg\n",
        "!nohup /tmp/.venv/bin/python -m uvicorn app.main:app --host 0.0.0.0 --port 8000 > server.log 2>&1 &"
      ]
    },
    {
      "cell_type": "markdown",
      "metadata": {
        "id": "09M3nMMnVc0-"
      },
      "source": [
        "###  *    Set your ngrok token below    *"
      ]
    },
    {
      "cell_type": "code",
      "execution_count": null,
      "metadata": {
        "colab": {
          "base_uri": "https://localhost:8080/"
        },
        "id": "38q_Y1IdVc1A",
        "outputId": "8e206e67-b06b-4343-e8c4-3b2fd02b31dc"
      },
      "outputs": [],
      "source": [
        "!pip -q install pyngrok\n",
        "from pyngrok import ngrok\n",
        "# If you have an auth token, uncomment and set it below\n",
        "ngrok.set_auth_token('')\n",
        "public_url = ngrok.connect(8000, bind_tls=True).public_url\n",
        "print('Public URL:', public_url)"
      ]
    },
    {
      "cell_type": "code",
      "execution_count": null,
      "metadata": {
        "colab": {
          "base_uri": "https://localhost:8080/"
        },
        "id": "t8J-koRLYfTJ",
        "outputId": "a1cd0613-dcda-49bf-a53d-212cfaa74855"
      },
      "outputs": [],
      "source": [
        "!curl -sS http://127.0.0.1:8000/health || tail -n 100 /content/drive/MyDrive/LIT-for-Voice/Backend/server.log"
      ]
    },
    {
      "cell_type": "code",
      "execution_count": null,
      "metadata": {
        "colab": {
          "base_uri": "https://localhost:8080/"
        },
        "id": "B60o2OneYJjp",
        "outputId": "70dff628-8825-4522-9def-48c1e2233f01"
      },
      "outputs": [],
      "source": [
        "import os, subprocess, time, pathlib, psutil\n",
        "\n",
        "backend_dir = pathlib.Path(\"/content/drive/MyDrive/LIT-for-Voice/Backend\")\n",
        "log_path = backend_dir / \"server.log\"\n",
        "\n",
        "# Kill any stale uvicorn\n",
        "for p in psutil.process_iter(attrs=[\"pid\",\"cmdline\"]):\n",
        "    try:\n",
        "        cmd = \" \".join(p.info.get(\"cmdline\") or [])\n",
        "        if \"uvicorn app.main:app\" in cmd:\n",
        "            p.terminate()\n",
        "    except Exception:\n",
        "        pass\n",
        "\n",
        "os.environ[\"PYTORCH_CUDA_ALLOC_CONF\"] = \"expandable_segments:True\"\n",
        "os.environ[\"MAX_SALIENCY_SECONDS\"] = \"12\"           # can raise/lower later\n",
        "os.environ[\"MAX_SALIENCY_SECONDS_SHAP\"] = \"6\"       # keep low to avoid SHAP spikes\n",
        "os.environ[\"SALIENCY_SHAP_SAMPLES\"] = \"8\"           # fewer samples -> less RAM\n",
        "\n",
        "# Configure CORS origins and cookie settings\n",
        "os.environ[\"ALLOWED_ORIGINS\"] = f\"http://127.0.0.1:8080,http://localhost:8080,{public_url}\"\n",
        "os.environ[\"COOKIE_SAMESITE\"] = \"none\"\n",
        "os.environ[\"COOKIE_SECURE\"] = \"true\"\n",
        "os.environ[\"CORS_ALLOW_CREDENTIALS\"] = \"true\"\n",
        "os.environ[\"CORS_ALLOW_METHODS\"] = \"GET, POST, PUT, DELETE, OPTIONS\"\n",
        "os.environ[\"CORS_ALLOW_HEADERS\"] = \"Content-Type, Authorization, X-Requested-With\"\n",
        "\n",
        "# Start backend\n",
        "p = subprocess.Popen(\n",
        "    [\"/tmp/.venv/bin/python\", \"-m\", \"uvicorn\", \"app.main:app\", \"--host\", \"0.0.0.0\", \"--port\", \"8000\"],\n",
        "    cwd=str(backend_dir),\n",
        "    stdout=open(log_path, \"ab\"),\n",
        "    stderr=subprocess.STDOUT,\n",
        "    env=os.environ.copy()\n",
        ")\n",
        "\n",
        "time.sleep(2)\n",
        "print(\"Backend PID:\", p.pid)"
      ]
    }
  ],
  "metadata": {
    "colab": {
      "provenance": []
    },
    "kernelspec": {
      "display_name": "Python 3",
      "name": "python3"
    },
    "language_info": {
      "name": "python"
    }
  },
  "nbformat": 4,
  "nbformat_minor": 0
}
